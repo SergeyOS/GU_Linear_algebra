{
 "cells": [
  {
   "cell_type": "markdown",
   "metadata": {},
   "source": [
    "# Линейное пространство. Основные понятия. Часть 1"
   ]
  },
  {
   "cell_type": "markdown",
   "metadata": {},
   "source": [
    "__1.__ Исследовать на линейную зависимость:\n",
    "$$f_{1}(x)=e^{x}, f_{2}(x)=1, f_{3}(x)=x+1, f_{4}(x)=x-e^{x}.$$"
   ]
  },
  {
   "cell_type": "markdown",
   "metadata": {},
   "source": [
    "Представим  $f_{4}(x)$ комбинацией других функций\n",
    "$$f_{4}(x)=f_{3}(x) - f_{2}(x)-f_{1}(x)=x+1 - 1 - e^{x}.$$  \n",
    "Т.к. один из векторов является линейной комбинацией двух остальных. Из этого следует, что векторы линейно зависимы."
   ]
  },
  {
   "cell_type": "markdown",
   "metadata": {},
   "source": [
    "__2.__ Исследовать на линейную зависимость:\n",
    "$$f_{1}(x)=2, f_{2}(x)=x, f_{3}(x)=x^{2}, f_{4}(x)=(x+1)^{2}.$$"
   ]
  },
  {
   "cell_type": "markdown",
   "metadata": {},
   "source": [
    "Представим  $f_{4}(x)$ комбинацией других функций\n",
    "$$f_{4}(x)=(x+1)^{2}=x^{2}+2x+1=f_{3}(x)+2f_{2}(x)+0.5f_{1}(x).$$\n",
    "Т.к. один из векторов является линейной комбинацией двух остальных. Из этого следует, что векторы линейно зависимы"
   ]
  },
  {
   "cell_type": "markdown",
   "metadata": {},
   "source": [
    "__3.__ Найти координаты вектора $x = (2, 3, 5)\\in \\mathbb{R}^{3}$ в базисе $b_{1}=(0, 0, 10)$, $b_{2}=(2, 0, 0)$, $b_{3}=(0, 1, 0)$."
   ]
  },
  {
   "cell_type": "markdown",
   "metadata": {},
   "source": [
    "Стандартный базис линейного пространства $\\mathbb{R}^{3}$ образуют векторы \n",
    "$e_{1}=(1, 0, 0)$, $e_{2}=(0, 1, 0)$, $e_{3}=(0, 0, 1)$.  \n",
    "Представим новый базис в стандартном базисе $b_{1}=10\\cdot e_{3} => e_{3} = 0.1\\cdot b_{1}$,  \n",
    "$b_{2}=2\\cdot e_{1} => e_{1} = 0.5 \\cdot  b_{2}$,  \n",
    "$b_{3}=1 \\cdot e_{2} => e_{2} = b_{3}  $\n",
    "\n",
    "\n",
    "$$x=(2, 3, 5)=(2,0,0)+(0, 3, 0)+(0, 0, 5)=2\\cdot(1, 0, 0)+3\\cdot(0, 1, 0)+5\\cdot(0, 0, 1)=2e_{1}+3e_{2}+5e_{3},$$\n",
    "\n",
    "\n",
    " заменим $e_1$, $e_2$, $e_3$ на $b_1$, $b_2$, $b_3$:\n",
    "\n",
    "$$2e_{1}+3e_{2}+5e_{3} = 2 \\cdot 0.5 \\cdot  b_{2} + 3  \\cdot b_{3} + 5\\cdot 0.1\\cdot b_{1}  = b_{2} + 3  \\cdot b_{3} + 0.5\\cdot b_{1} = (0.5, 1, 3) $$"
   ]
  },
  {
   "cell_type": "markdown",
   "metadata": {},
   "source": [
    "__4.__ Найти координаты вектора $3x^{2}-2x+2\\in\\mathbb{R}^{3}[x]$:\n",
    "\n",
    "   а) в базисе $1$, $x$, $x^{2}$;    \n",
    "   Ответ: (2, -2, 3)  \n",
    "   б) в базисе $x^{2}$, $x-1$, $1$.  \n",
    "   Ответ: (3, -2, 0)"
   ]
  },
  {
   "cell_type": "markdown",
   "metadata": {},
   "source": [
    "__5.__ Установить, является ли линейным подпространством:\n",
    "\n",
    "а) совокупность всех векторов трехмерного пространства, у которых по крайней мере одна из первых двух координат равна нулю;  \n",
    "   Возьмем 2 вектора из указаного множества следующего вида $(a,0,c)$ и $(0,b, d)$ и проверим первое условие :  \n",
    "   $$(a,0,c)+(0,b, d)=(a,b,c+d)$$  \n",
    "   \n",
    "   Получившийся вектор не принадлежит указанном множеству, поэтому указанное множество векторов не является линейным подпространством.  \n",
    "   \n",
    "   \n",
    "б) все векторы, являющиеся линейными комбинациями данных векторов $\\{u_{1}, u_{2}, ..., u_{n}\\}$."
   ]
  },
  {
   "cell_type": "markdown",
   "metadata": {},
   "source": [
    "Любой вектор множества можно представить в виде $$\\sum_{t=1}^{n}\\lambda_{t}u_{t}$$  \n",
    "Сумма двух векторов:\n",
    "$$\\sum_{t=1}^{n}\\alpha_{t}u_{t} + \\sum_{t=1}^{n}\\beta_{t}u_{t} = \\sum_{t=1}^{n}(\\alpha_{t} + \\beta_{t})u_{t} =\\sum_{t=1}^{n}\\lambda_{t}u_{t} $$   \n",
    "Произведение вектора на число:\n",
    "$$\\alpha \\cdot \\sum_{t=1}^{n}\\lambda_{t}u_{t} = \\sum_{t=1}^{n}\\alpha \\cdot \\lambda_{t}u_{t} = \\sum_{t=1}^{n}\\beta_{t}u_{t}$$\n",
    "\n",
    "Т.к. полученные вектора принадлежат указанному множеству, поэтому указанное множество векторов является линейным подпространством."
   ]
  },
  {
   "cell_type": "markdown",
   "metadata": {},
   "source": [
    "# Линейное пространство. Основные понятия. Часть 2"
   ]
  },
  {
   "cell_type": "code",
   "execution_count": 1,
   "metadata": {},
   "outputs": [],
   "source": [
    "import numpy as np\n",
    "from numpy.linalg import norm"
   ]
  },
  {
   "cell_type": "markdown",
   "metadata": {},
   "source": [
    "__1.__ Найти скалярное произведение векторов $x, y \\in \\mathbb{R}$:<br>\n",
    "а) $x=(0,-3, 6),~y=(-4, 7, 9);$<br>\n"
   ]
  },
  {
   "cell_type": "code",
   "execution_count": 2,
   "metadata": {},
   "outputs": [
    {
     "name": "stdout",
     "output_type": "stream",
     "text": [
      "Скалярное произведение a и b:\n",
      "33\n"
     ]
    }
   ],
   "source": [
    "a = np.array([0, -3, 6])\n",
    "b = np.array([-4, 7, 9])\n",
    "print(f'Скалярное произведение a и b:\\n{np.dot(a, b)}')"
   ]
  },
  {
   "cell_type": "markdown",
   "metadata": {},
   "source": [
    "б) $x=(7, -4, 0, 1),~y=(-3, 1, 11, 2).$"
   ]
  },
  {
   "cell_type": "code",
   "execution_count": 3,
   "metadata": {},
   "outputs": [
    {
     "name": "stdout",
     "output_type": "stream",
     "text": [
      "Скалярное произведение a и b:\n",
      "-23\n"
     ]
    }
   ],
   "source": [
    "a = np.array([7, -4, 0, 1])\n",
    "b = np.array([-3, 1, 11, 2])\n",
    "print(f'Скалярное произведение a и b:\\n{np.dot(a, b)}')"
   ]
  },
  {
   "cell_type": "markdown",
   "metadata": {},
   "source": [
    "__2.__ Найти нормы векторов $(4, 2, 4)$ и $(12, 3, 4)$ и угол между ними."
   ]
  },
  {
   "cell_type": "code",
   "execution_count": 4,
   "metadata": {},
   "outputs": [
    {
     "name": "stdout",
     "output_type": "stream",
     "text": [
      "норма первого вектора: 6.0\n",
      "норма второго вектора: 13.0\n",
      "Косинус угла между: 0.90\n",
      "Угол между: 26.18 градусов\n"
     ]
    }
   ],
   "source": [
    "a = np.array([4, 2, 4])\n",
    "b = np.array([12, 3, 4])\n",
    "\n",
    "cos_phi = np.dot(a, b) / norm(a, ord=2) / norm(b, ord=2)\n",
    "print(f'норма первого вектора: {norm(a, ord=2)}')\n",
    "print(f'норма второго вектора: {norm(b, ord=2)}')\n",
    "print(f'Косинус угла между: {cos_phi:.2f}')\n",
    "print(f'Угол между: {np.arccos(cos_phi)*180/np.pi:.2f} градусов')"
   ]
  },
  {
   "cell_type": "markdown",
   "metadata": {},
   "source": [
    "__3.__ Будет ли линейное пространство евклидовым, если за скалярное произведение принять:<br>\n",
    "а) произведение длин векторов;<br>\n"
   ]
  },
  {
   "cell_type": "markdown",
   "metadata": {},
   "source": [
    "__Определение__\n",
    "\n",
    "Линейное пространство над полем вещественных чисел называется _евклидовым пространством_, если на нем введено правило, согласно которому каждой упорядоченной паре векторов $x$ и $y$ поставлено в соответствие вещественное число, называемое _скалярным произведением_ и обозначаемое символом $(x, y)$.\n",
    "\n",
    "При этом указанное правило должно подчиняться четырем аксиомам:<br>\n",
    "1) $(x,y)=(y,x);$<br>\n",
    "2) $(\\lambda x, y)=\\lambda(x, y);$<br>\n",
    "3) $(x_{1}+x_{2},y)=(x_{1},y)+(x_{2},y);$<br>\n",
    "4) $(x, x)\\geq0$, причем $(x,x)=0\\Leftrightarrow x=0.$\n",
    "\n",
    "Проверим аксиомы если скалярное произведение равное  произведение длин векторов<br>  \n",
    "1) $(x,y) = \\left\\|x\\right\\| \\cdot \\left\\|y\\right\\| =  \\left\\|y\\right\\| \\cdot \\left\\|x\\right\\|= (y,x) $<br>\n",
    "2) $(\\lambda x, y)=\\left\\|\\lambda x\\right\\| \\cdot \\left\\|y\\right\\|=\\lambda \\left\\| x\\right\\| \\cdot \\left\\|y\\right\\| = \\lambda(x, y);$<br>\n",
    "3) $(x_{1}+x_{2},y)= \\left\\|x_{1} + x_{2}\\right\\| \\cdot \\left\\|y\\right\\| $ <br>\n",
    "Т.к. нормой евлидова пространства является $\\left\\|x\\right\\|_{2} = \\sqrt{\\sum_{i}|x_{i}|^{2}}.$<br>\n",
    "$\\sqrt{\\sum_{i}|x_{1i}|^{2}}+ \\sqrt{\\sum_{i}|x_{2i}|^{2}} \\neq \\sqrt{\\sum_{i}|x_{1i}+x_{2i}|^{2}}$<br>\n",
    "Поэтому третья аксиома не выполняется, значит пространство не является евклидовым"
   ]
  },
  {
   "cell_type": "markdown",
   "metadata": {},
   "source": [
    "б) утроенное обычное скалярное произведение векторов?"
   ]
  },
  {
   "cell_type": "markdown",
   "metadata": {},
   "source": [
    "1) $(x,y)=3 \\cdot \\left\\|x\\right\\| \\cdot \\left\\|y\\right\\| \\cdot cos\\phi= (y,x);$<br>\n",
    "2) $(\\lambda x, y)=3 \\cdot \\left\\|\\lambda x\\right\\| \\cdot \\left\\|y\\right\\|  \\cdot cos\\phi= \\lambda(x, y);$<br>\n",
    "3) $(x_{1}+x_{2},y)=3 \\cdot \\left\\|x_{1}+x_{2}\\right\\| \\cdot \\left\\|y\\right\\|  \\cdot cos\\phi = 3 \\cdot \\left\\|x_{1}\\right\\| \\cdot \\left\\|y\\right\\|  \\cdot cos\\phi + 3 \\cdot \\left\\|x_{2}\\right\\| \\cdot \\left\\|y\\right\\|  \\cdot cos\\phi = \n",
    "(x_{1},y)+(x_{2},y);$<br>\n",
    "4) $(x, x) = 3 \\cdot \\left\\|x\\right\\| \\cdot \\left\\|x\\right\\| \\cdot cos\\phi\\geq0$, причем $(x,x)=0\\Leftrightarrow x=0.$<br>\n",
    "Т.к. все аксиомы выполняются, то пространство является евклидовым"
   ]
  },
  {
   "cell_type": "markdown",
   "metadata": {},
   "source": [
    "__4.__ Какие из нижеперечисленных векторов образуют ортонормированный базис в линейном пространстве $\\mathbb{R}^{3}$:<br>\n",
    "а) $(1,0,0),(0,0,1);$ <br>"
   ]
  },
  {
   "cell_type": "markdown",
   "metadata": {},
   "source": [
    "Два вектора  в трехмерном пространстве не могут быть базисом по определению."
   ]
  },
  {
   "cell_type": "markdown",
   "metadata": {},
   "source": [
    "б) $(1/\\sqrt{2},-1/\\sqrt{2},0),(1/\\sqrt{2},1/\\sqrt{2},0), (0,0,1);$<br>"
   ]
  },
  {
   "cell_type": "code",
   "execution_count": 5,
   "metadata": {},
   "outputs": [
    {
     "name": "stdout",
     "output_type": "stream",
     "text": [
      "норма первого вектора: 0.9999999999999999\n",
      "норма второго вектора: 0.9999999999999999\n",
      "норма третьего вектора: 1.0\n",
      "Угол между: 90.00 градусов\n",
      "Угол между: 90.00 градусов\n",
      "Угол между: 90.00 градусов\n"
     ]
    }
   ],
   "source": [
    "a = np.array([1/2**(0.5), -1/2**(0.5), 0])\n",
    "b = np.array([1/2**(0.5), 1/2**(0.5), 0])\n",
    "c = np.array([0, 0, 1])\n",
    "print(f'норма первого вектора: {norm(a, ord=2)}')\n",
    "print(f'норма второго вектора: {norm(b, ord=2)}')\n",
    "print(f'норма третьего вектора: {norm(c, ord=2)}')\n",
    "cos_phi = np.dot(a, b) / norm(a, ord=2) / norm(b, ord=2)\n",
    "print(f'Угол между: {np.arccos(cos_phi)*180/np.pi:.2f} градусов')\n",
    "cos_phi = np.dot(b, c) / norm(b, ord=2) / norm(c, ord=2)\n",
    "print(f'Угол между: {np.arccos(cos_phi)*180/np.pi:.2f} градусов')\n",
    "cos_phi = np.dot(a, c) / norm(a, ord=2) / norm(c, ord=2)\n",
    "print(f'Угол между: {np.arccos(cos_phi)*180/np.pi:.2f} градусов')"
   ]
  },
  {
   "cell_type": "markdown",
   "metadata": {},
   "source": [
    "вектора ортогональны и имеет единичную длину, поэтому набор векторов ортонормированый"
   ]
  },
  {
   "cell_type": "markdown",
   "metadata": {},
   "source": [
    "в) $(1/2, -1/2, 0), (0, 1/2, 1/2), (0,0,1);$<br>"
   ]
  },
  {
   "cell_type": "code",
   "execution_count": 6,
   "metadata": {},
   "outputs": [
    {
     "name": "stdout",
     "output_type": "stream",
     "text": [
      "норма первого вектора: 0.7071067811865476\n",
      "норма второго вектора: 0.7071067811865476\n",
      "норма третьего вектора: 1.0\n",
      "Угол между: 120.00 градусов\n",
      "Угол между: 45.00 градусов\n",
      "Угол между: 90.00 градусов\n"
     ]
    }
   ],
   "source": [
    "a = np.array([1/2, -1/2, 0])\n",
    "b = np.array([0, 1/2, 1/2])\n",
    "c = np.array([0, 0, 1])\n",
    "print(f'норма первого вектора: {norm(a, ord=2)}')\n",
    "print(f'норма второго вектора: {norm(b, ord=2)}')\n",
    "print(f'норма третьего вектора: {norm(c, ord=2)}')\n",
    "cos_phi = np.dot(a, b) / norm(a, ord=2) / norm(b, ord=2)\n",
    "print(f'Угол между: {np.arccos(cos_phi)*180/np.pi:.2f} градусов')\n",
    "cos_phi = np.dot(b, c) / norm(b, ord=2) / norm(c, ord=2)\n",
    "print(f'Угол между: {np.arccos(cos_phi)*180/np.pi:.2f} градусов')\n",
    "cos_phi = np.dot(a, c) / norm(a, ord=2) / norm(c, ord=2)\n",
    "print(f'Угол между: {np.arccos(cos_phi)*180/np.pi:.2f} градусов')"
   ]
  },
  {
   "cell_type": "markdown",
   "metadata": {},
   "source": [
    "Вектора не ортогональны и длина не единичная в евкликодов пространстве, поэтому вектора не могут ортонормированными"
   ]
  },
  {
   "cell_type": "markdown",
   "metadata": {},
   "source": [
    "г) $(1,0,0),(0,1,0),(0,0,1)?$ "
   ]
  },
  {
   "cell_type": "code",
   "execution_count": 7,
   "metadata": {},
   "outputs": [
    {
     "name": "stdout",
     "output_type": "stream",
     "text": [
      "норма первого вектора: 1.0\n",
      "норма второго вектора: 1.0\n",
      "норма третьего вектора: 1.0\n",
      "Угол между: 90.00 градусов\n",
      "Угол между: 90.00 градусов\n",
      "Угол между: 90.00 градусов\n"
     ]
    }
   ],
   "source": [
    "a = np.array([1, 0, 0])\n",
    "b = np.array([0, 1, 0])\n",
    "c = np.array([0, 0, 1])\n",
    "print(f'норма первого вектора: {norm(a, ord=2)}')\n",
    "print(f'норма второго вектора: {norm(b, ord=2)}')\n",
    "print(f'норма третьего вектора: {norm(c, ord=2)}')\n",
    "cos_phi = np.dot(a, b) / norm(a) / norm(b)\n",
    "print(f'Угол между: {np.arccos(cos_phi)*180/np.pi:.2f} градусов')\n",
    "cos_phi = np.dot(b, c) / norm(b) / norm(c)\n",
    "print(f'Угол между: {np.arccos(cos_phi)*180/np.pi:.2f} градусов')\n",
    "cos_phi = np.dot(a, c) / norm(a) / norm(c)\n",
    "print(f'Угол между: {np.arccos(cos_phi)*180/np.pi:.2f} градусов')"
   ]
  },
  {
   "cell_type": "markdown",
   "metadata": {},
   "source": [
    "Вектора ортогональны и их длина единичная в евкликодов пространстве, поэтому вектора ортонормированными"
   ]
  }
 ],
 "metadata": {
  "kernelspec": {
   "display_name": "Python 3",
   "language": "python",
   "name": "python3"
  },
  "language_info": {
   "codemirror_mode": {
    "name": "ipython",
    "version": 3
   },
   "file_extension": ".py",
   "mimetype": "text/x-python",
   "name": "python",
   "nbconvert_exporter": "python",
   "pygments_lexer": "ipython3",
   "version": "3.7.1"
  }
 },
 "nbformat": 4,
 "nbformat_minor": 2
}
