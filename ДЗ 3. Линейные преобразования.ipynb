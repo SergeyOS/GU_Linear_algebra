{
 "cells": [
  {
   "cell_type": "markdown",
   "metadata": {},
   "source": [
    "__1.__ Найти собственные векторы и собственные значения для линейного оператора, заданного матрицей\n",
    "\n",
    "$$A=\\begin{pmatrix}\n",
    "-1 & -6\\\\ \n",
    "2 & 6\n",
    "\\end{pmatrix}.$$\n"
   ]
  },
  {
   "cell_type": "markdown",
   "metadata": {},
   "source": [
    "Составим и решив характеристическое уравнение:\n",
    "$$\\begin{vmatrix}\n",
    "-1 - \\lambda & -6\\\\ \n",
    "2 & 6 - \\lambda \n",
    "\\end{vmatrix} = 0,$$ \n",
    "\n",
    "$$(-1 - \\lambda) \\cdot (6 - \\lambda) + 12 = 0$$\n",
    "$$6 - 5 \\lambda + \\lambda^2 = 0$$\n",
    "$$(\\lambda - 2) \\cdot (\\lambda - 3) = 0$$\n",
    "$$\\lambda_1 = 2, \\lambda_2 = 3$$"
   ]
  },
  {
   "cell_type": "markdown",
   "metadata": {},
   "source": [
    "Теперь найдем собственные векторы вида $\\begin{pmatrix}\n",
    "x_{1}\\\\ \n",
    "x_{2}\n",
    "\\end{pmatrix}$, подставив полученное собственное значение в выражение $\\textbf{A}x=\\lambda x$:"
   ]
  },
  {
   "cell_type": "markdown",
   "metadata": {},
   "source": [
    "$$\\begin{pmatrix}\n",
    "-1 & -6\\\\ \n",
    "2 & 6\n",
    "\\end{pmatrix}\n",
    "\\begin{pmatrix}\n",
    "x_{1}\\\\ \n",
    "x_{2}\n",
    "\\end{pmatrix}=\n",
    "\\lambda\n",
    "\\begin{pmatrix}\n",
    "x_{1}\\\\ \n",
    "x_{2}\n",
    "\\end{pmatrix}.\n",
    "$$"
   ]
  },
  {
   "cell_type": "markdown",
   "metadata": {},
   "source": [
    "Получим для $\\lambda_1 = 2$\n",
    "\n",
    "$$\\begin{cases}\n",
    "-x_{1}-6x_{2}= 2x_{1}, \\\\\n",
    "2x_{1}+6x_{2}= 2x_{2}.\n",
    "\\end{cases}$$ \n",
    "\n",
    "$$\\begin{cases}\n",
    "-3x_{1}-6x_{2}= 0, \\\\\n",
    "2x_{1}+4x_{2}=0.\n",
    "\\end{cases}$$ \n",
    "$$x_{1}=-2x_{2} => -4x_{2}+4x_{2}=0$$\n",
    "Выберем $x_{2} = 1$, тогда $x_{1}=-2$, тогда\n",
    "$x=\\begin{pmatrix}\n",
    "-2\\\\ \n",
    "1\n",
    "\\end{pmatrix}$ удовлетворяет каждому уравнению системы"
   ]
  },
  {
   "cell_type": "markdown",
   "metadata": {},
   "source": [
    "Получим для $\\lambda_2 = 3$\n",
    "\n",
    "$$\\begin{cases}\n",
    "-x_{1}-6x_{2}= 3x_{1}, \\\\\n",
    "2x_{1}+6x_{2}= 3x_{2}.\n",
    "\\end{cases}$$ \n",
    "\n",
    "$$\\begin{cases}\n",
    "-4x_{1}-6x_{2}=0, \\\\\n",
    "2x_{1}+3x_{2}=0.\n",
    "\\end{cases}$$ \n",
    "$$x_{1}=-\\frac{3}{2}x_{2} => -\\frac{3}{2}x_{2} \\cdot 2 + 3x_{2}=0$$\n",
    "Выберем $x_{2} = 2$, тогда $x_{1}=-3$, тогда\n",
    "$x=\\begin{pmatrix}\n",
    "-3\\\\ \n",
    "2\n",
    "\\end{pmatrix}$ удовлетворяет каждому уравнению системы"
   ]
  },
  {
   "cell_type": "markdown",
   "metadata": {},
   "source": [
    "Ответ:\n",
    "собственные значения $$\\lambda = \\begin{pmatrix}\n",
    "2 \\\\ \n",
    "3\n",
    "\\end{pmatrix}$$\n",
    "собственные вектора $$x = \\begin{pmatrix}\n",
    "-2 & -3\\\\ \n",
    "1 & 2\n",
    "\\end{pmatrix}$$"
   ]
  },
  {
   "cell_type": "markdown",
   "metadata": {},
   "source": [
    "Проверим расчеты"
   ]
  },
  {
   "cell_type": "code",
   "execution_count": 1,
   "metadata": {},
   "outputs": [],
   "source": [
    "import numpy as np\n",
    "np.set_printoptions(precision=2, suppress=True)"
   ]
  },
  {
   "cell_type": "code",
   "execution_count": 2,
   "metadata": {},
   "outputs": [],
   "source": [
    "a = np.array([[-1, -6], [2, 6]])\n",
    "w = np.array([2, 3])\n",
    "v = np.array([[-2, -3], [1, 2]])"
   ]
  },
  {
   "cell_type": "code",
   "execution_count": 3,
   "metadata": {},
   "outputs": [
    {
     "data": {
      "text/plain": [
       "array([-2.,  1.])"
      ]
     },
     "execution_count": 3,
     "metadata": {},
     "output_type": "execute_result"
    }
   ],
   "source": [
    "np.dot(a, v[:,0]) / w[0]"
   ]
  },
  {
   "cell_type": "code",
   "execution_count": 4,
   "metadata": {},
   "outputs": [
    {
     "data": {
      "text/plain": [
       "array([-3.,  2.])"
      ]
     },
     "execution_count": 4,
     "metadata": {},
     "output_type": "execute_result"
    }
   ],
   "source": [
    "np.dot(a, v[:,1]) / w[1]"
   ]
  },
  {
   "cell_type": "markdown",
   "metadata": {},
   "source": [
    "__2.__ Дан оператор поворота на 180 градусов, задаваемый матрицей \n",
    "\n",
    "$$A=\\begin{pmatrix}\n",
    "-1 & 0\\\\ \n",
    "0 & -1\n",
    "\\end{pmatrix}.$$\n",
    "\n",
    "Показать, что __любой__ вектор является для него собственным."
   ]
  },
  {
   "cell_type": "markdown",
   "metadata": {},
   "source": [
    "Решением характеристического уравнения очевидно является $\\lambda_1=\\lambda_2 = -1$  \n",
    "Предположим, что существует вектор  x= $\\begin{pmatrix}\n",
    "x_{1}\\\\ \n",
    "x_{2}\n",
    "\\end{pmatrix}$, при котором нет решение в системе уравнений\n",
    "$$\\begin{cases}\n",
    "-x_{1}+0\\cdot x_{2}= -x_{1}, \\\\\n",
    "0 \\cdot x_{1}-x_{2}= -x_{2}.\n",
    "\\end{cases}$$ \n",
    "Очевидно, что система уравнений при любом значении $x_{1} и x_{2}$ имеет решение. Поэтому предположение не верно и любой вектор будет собственным."
   ]
  },
  {
   "cell_type": "markdown",
   "metadata": {},
   "source": [
    "__3.__ Пусть линейный оператор задан матрицей\n",
    "\n",
    "$$A=\\begin{pmatrix}\n",
    "1 & 1\\\\ \n",
    "-1 & 3\n",
    "\\end{pmatrix}.$$\n",
    "\n",
    "Установить, является ли вектор $x=(1,1)$ собственным вектором этого линейного оператора."
   ]
  },
  {
   "cell_type": "markdown",
   "metadata": {},
   "source": [
    "Предположим, что вектор $x$ является собственным вектором заданного линейного оператора, тогда должно существовать некоторое вещественное число $\\lambda$, при котором \n",
    "$$\\begin{pmatrix}\n",
    "1 & 1\\\\ \n",
    "-1 & 3\n",
    "\\end{pmatrix}\n",
    "\\begin{pmatrix}\n",
    "1\\\\ \n",
    "1 \n",
    "\\end{pmatrix}=\n",
    "\\lambda\n",
    "\\begin{pmatrix}\n",
    "1\\\\ \n",
    "1\n",
    "\\end{pmatrix}.\n",
    "$$\n",
    "\n",
    "Из этого будет следовать, что \n",
    "\n",
    "$$\\begin{cases}\n",
    "1+1=1\\cdot\\lambda \\\\ \n",
    "-1+3 = 1\\cdot \\lambda\n",
    "\\end{cases}\n",
    "\\Rightarrow\n",
    "\\begin{cases}\n",
    "\\lambda=2\\\\ \n",
    "\\lambda=2\n",
    "\\end{cases}.$$\n",
    "\n",
    "Таким образом, вектор $x=(1,1)$ является собственным вектором линейного оператора, заданного матрицей $A$, и его собственное значение составляет $\\lambda=2.$"
   ]
  },
  {
   "cell_type": "markdown",
   "metadata": {},
   "source": [
    "__4.__ Пусть линейный оператор задан матрицей\n",
    "\n",
    "$$A=\\begin{pmatrix}\n",
    "0 & 3 & 0\\\\ \n",
    "3 & 0 & 0\\\\\n",
    "0 & 0 & 3\n",
    "\\end{pmatrix}.$$\n",
    "\n",
    "Установить, является ли вектор $x=(3, -3, -4)$ собственным вектором этого линейного оператора."
   ]
  },
  {
   "cell_type": "markdown",
   "metadata": {},
   "source": [
    "Предположим, что вектор $x$ является собственным вектором заданного линейного оператора, тогда должно существовать некоторое вещественное число $\\lambda$, при котором \n",
    "$$\\begin{pmatrix}\n",
    "0 & 3& 0 \\\\ \n",
    "3 & 0& 0 \\\\ \n",
    "0 & 0& 3\n",
    "\\end{pmatrix}\n",
    "\\begin{pmatrix}\n",
    "3\\\\ \n",
    "-3\\\\ \n",
    "-4\n",
    "\\end{pmatrix}=\n",
    "\\lambda\n",
    "\\begin{pmatrix}\n",
    "3\\\\ \n",
    "-3\\\\ \n",
    "-4\n",
    "\\end{pmatrix}.\n",
    "$$\n",
    "\n"
   ]
  },
  {
   "cell_type": "markdown",
   "metadata": {},
   "source": [
    "Из этого будет следовать, что \n",
    "\n",
    "$$\\begin{cases}\n",
    "0 \\cdot 3 + 3 \\cdot (-3) + 0\\cdot (-4) = 3\\cdot\\lambda \\\\ \n",
    "3 \\cdot 3 + 0 \\cdot (-3) + 0\\cdot (-4) = -3\\cdot\\lambda \\\\ \n",
    "0 \\cdot 3 + 0 \\cdot (-3) + 3\\cdot (-4) = -4\\cdot\\lambda \\\\ \n",
    "\\end{cases}\n",
    "\\Rightarrow\n",
    "\\begin{cases}\n",
    "\\lambda=-3\\\\ \n",
    "\\lambda=-3\\\\\n",
    "\\lambda=3\n",
    "\\end{cases}.\n",
    "$$\n",
    "\n",
    "Таким образом, вектор $x=(3,-3, -4)$ не является собственным вектором линейного оператора, заданного матрицей $A$."
   ]
  }
 ],
 "metadata": {
  "kernelspec": {
   "display_name": "Python 3",
   "language": "python",
   "name": "python3"
  },
  "language_info": {
   "codemirror_mode": {
    "name": "ipython",
    "version": 3
   },
   "file_extension": ".py",
   "mimetype": "text/x-python",
   "name": "python",
   "nbconvert_exporter": "python",
   "pygments_lexer": "ipython3",
   "version": "3.7.1"
  }
 },
 "nbformat": 4,
 "nbformat_minor": 2
}
